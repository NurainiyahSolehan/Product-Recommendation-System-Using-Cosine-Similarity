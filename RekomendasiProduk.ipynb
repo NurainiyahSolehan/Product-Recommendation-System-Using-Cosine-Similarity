{
 "cells": [
  {
   "cell_type": "markdown",
   "metadata": {},
   "source": [
    "\n",
    "### REKOMENDASI PRODUK\n"
   ]
  },
  {
   "cell_type": "code",
   "execution_count": 1,
   "metadata": {},
   "outputs": [],
   "source": [
    "# Import library \n",
    "import pandas as pd\n",
    "from sklearn.metrics.pairwise import cosine_similarity\n",
    "import matplotlib.pyplot as plt"
   ]
  },
  {
   "cell_type": "code",
   "execution_count": 2,
   "metadata": {},
   "outputs": [],
   "source": [
    "# Load dataset\n",
    "df = pd.read_csv('Fashion_Retail_Sales.csv')"
   ]
  },
  {
   "cell_type": "markdown",
   "metadata": {},
   "source": [
    "### Exploratory Data Analysis"
   ]
  },
  {
   "cell_type": "code",
   "execution_count": 3,
   "metadata": {},
   "outputs": [
    {
     "data": {
      "text/html": [
       "<div>\n",
       "<style scoped>\n",
       "    .dataframe tbody tr th:only-of-type {\n",
       "        vertical-align: middle;\n",
       "    }\n",
       "\n",
       "    .dataframe tbody tr th {\n",
       "        vertical-align: top;\n",
       "    }\n",
       "\n",
       "    .dataframe thead th {\n",
       "        text-align: right;\n",
       "    }\n",
       "</style>\n",
       "<table border=\"1\" class=\"dataframe\">\n",
       "  <thead>\n",
       "    <tr style=\"text-align: right;\">\n",
       "      <th></th>\n",
       "      <th>Customer Reference ID</th>\n",
       "      <th>Item Purchased</th>\n",
       "      <th>Purchase Amount (USD)</th>\n",
       "      <th>Date Purchase</th>\n",
       "      <th>Review Rating</th>\n",
       "      <th>Payment Method</th>\n",
       "    </tr>\n",
       "  </thead>\n",
       "  <tbody>\n",
       "    <tr>\n",
       "      <th>0</th>\n",
       "      <td>4018</td>\n",
       "      <td>Handbag</td>\n",
       "      <td>4619.0</td>\n",
       "      <td>2023-02-05</td>\n",
       "      <td>NaN</td>\n",
       "      <td>Credit Card</td>\n",
       "    </tr>\n",
       "    <tr>\n",
       "      <th>1</th>\n",
       "      <td>4115</td>\n",
       "      <td>Tunic</td>\n",
       "      <td>2456.0</td>\n",
       "      <td>2023-07-11</td>\n",
       "      <td>2.0</td>\n",
       "      <td>Credit Card</td>\n",
       "    </tr>\n",
       "    <tr>\n",
       "      <th>2</th>\n",
       "      <td>4019</td>\n",
       "      <td>Tank Top</td>\n",
       "      <td>2102.0</td>\n",
       "      <td>2023-03-23</td>\n",
       "      <td>4.1</td>\n",
       "      <td>Cash</td>\n",
       "    </tr>\n",
       "    <tr>\n",
       "      <th>3</th>\n",
       "      <td>4097</td>\n",
       "      <td>Leggings</td>\n",
       "      <td>3126.0</td>\n",
       "      <td>2023-03-15</td>\n",
       "      <td>3.2</td>\n",
       "      <td>Cash</td>\n",
       "    </tr>\n",
       "    <tr>\n",
       "      <th>4</th>\n",
       "      <td>3997</td>\n",
       "      <td>Wallet</td>\n",
       "      <td>3003.0</td>\n",
       "      <td>2022-11-27</td>\n",
       "      <td>4.7</td>\n",
       "      <td>Cash</td>\n",
       "    </tr>\n",
       "  </tbody>\n",
       "</table>\n",
       "</div>"
      ],
      "text/plain": [
       "   Customer Reference ID Item Purchased  Purchase Amount (USD) Date Purchase  \\\n",
       "0                   4018        Handbag                 4619.0    2023-02-05   \n",
       "1                   4115          Tunic                 2456.0    2023-07-11   \n",
       "2                   4019       Tank Top                 2102.0    2023-03-23   \n",
       "3                   4097       Leggings                 3126.0    2023-03-15   \n",
       "4                   3997         Wallet                 3003.0    2022-11-27   \n",
       "\n",
       "   Review Rating Payment Method  \n",
       "0            NaN    Credit Card  \n",
       "1            2.0    Credit Card  \n",
       "2            4.1           Cash  \n",
       "3            3.2           Cash  \n",
       "4            4.7           Cash  "
      ]
     },
     "execution_count": 3,
     "metadata": {},
     "output_type": "execute_result"
    }
   ],
   "source": [
    "# Menampilkan 5 data teratas dari dataset\n",
    "df.head()"
   ]
  },
  {
   "cell_type": "code",
   "execution_count": 4,
   "metadata": {},
   "outputs": [
    {
     "name": "stdout",
     "output_type": "stream",
     "text": [
      "<class 'pandas.core.frame.DataFrame'>\n",
      "RangeIndex: 3400 entries, 0 to 3399\n",
      "Data columns (total 6 columns):\n",
      " #   Column                 Non-Null Count  Dtype  \n",
      "---  ------                 --------------  -----  \n",
      " 0   Customer Reference ID  3400 non-null   int64  \n",
      " 1   Item Purchased         3400 non-null   object \n",
      " 2   Purchase Amount (USD)  2750 non-null   float64\n",
      " 3   Date Purchase          3400 non-null   object \n",
      " 4   Review Rating          3076 non-null   float64\n",
      " 5   Payment Method         3400 non-null   object \n",
      "dtypes: float64(2), int64(1), object(3)\n",
      "memory usage: 159.5+ KB\n"
     ]
    }
   ],
   "source": [
    "# Mengecek informasi dataset\n",
    "df.info()"
   ]
  },
  {
   "cell_type": "markdown",
   "metadata": {},
   "source": [
    "Dataset terdiri dari 3.400 baris data dan 6 kolom dengan rincian:\n",
    "\n",
    "- Customer Reference ID: Berisi ID pelanggan unik dengan tipe data integer.\n",
    "- Item Purchased: Berisi informasi tentang barang yang dibeli dengan tipe data object.\n",
    "- Purchase Amount (USD): Berisi jumlah pembelian dalam satuan dolar AS dengan tipe data float.\n",
    "- Date of Purchase: Berisi tanggal pembelian dengan tipe data object.\n",
    "- Review Rating: Berisi penilaian atau ulasan pelanggan dalam bentuk angka desimal dengan tipe data float.\n",
    "- Payment Method: Berisi metode pembayaran yang digunakan pelanggan dengan tipe data object."
   ]
  },
  {
   "cell_type": "code",
   "execution_count": 5,
   "metadata": {},
   "outputs": [
    {
     "data": {
      "text/plain": [
       "Customer Reference ID      0\n",
       "Item Purchased             0\n",
       "Purchase Amount (USD)    650\n",
       "Date Purchase              0\n",
       "Review Rating            324\n",
       "Payment Method             0\n",
       "dtype: int64"
      ]
     },
     "execution_count": 5,
     "metadata": {},
     "output_type": "execute_result"
    }
   ],
   "source": [
    "# Mengecek nilai yang hilang\n",
    "df.isna().sum()"
   ]
  },
  {
   "cell_type": "markdown",
   "metadata": {},
   "source": [
    "Hasil analisis data menunjukkan ada nilai yang hilang pada beberapa kolom, yaitu:\n",
    "\n",
    "- Purchase Amount (USD) memiliki 650 data yang tidak terisi.\n",
    "- Review Rating memiliki 324 data yang kosong."
   ]
  },
  {
   "cell_type": "code",
   "execution_count": 6,
   "metadata": {},
   "outputs": [
    {
     "data": {
      "text/plain": [
       "0"
      ]
     },
     "execution_count": 6,
     "metadata": {},
     "output_type": "execute_result"
    }
   ],
   "source": [
    "# Mengecek data yang duplikat\n",
    "df.duplicated().sum()"
   ]
  },
  {
   "cell_type": "markdown",
   "metadata": {},
   "source": [
    "Dataset ini tidak mengandung data duplikat."
   ]
  },
  {
   "cell_type": "markdown",
   "metadata": {},
   "source": [
    "### Preprocessing"
   ]
  },
  {
   "cell_type": "code",
   "execution_count": 7,
   "metadata": {},
   "outputs": [],
   "source": [
    "# Mengisi nilai yang hilang pada kolom 'Review Rating' dengan rata-rata\n",
    "df['Review Rating'].fillna(df['Review Rating'].mean(), inplace=True)\n",
    "df['Purchase Amount (USD)'].fillna(df['Purchase Amount (USD)'].mean(), inplace=True)"
   ]
  },
  {
   "cell_type": "code",
   "execution_count": 8,
   "metadata": {},
   "outputs": [
    {
     "data": {
      "text/plain": [
       "Customer Reference ID    0\n",
       "Item Purchased           0\n",
       "Purchase Amount (USD)    0\n",
       "Date Purchase            0\n",
       "Review Rating            0\n",
       "Payment Method           0\n",
       "dtype: int64"
      ]
     },
     "execution_count": 8,
     "metadata": {},
     "output_type": "execute_result"
    }
   ],
   "source": [
    "# Mengecek kembali nilai yang hilang\n",
    "df.isna().sum()"
   ]
  },
  {
   "cell_type": "code",
   "execution_count": 9,
   "metadata": {},
   "outputs": [],
   "source": [
    "# Membuat pivot tabel\n",
    "user = df.pivot_table(index='Customer Reference ID', columns='Item Purchased', values='Review Rating', fill_value=0)"
   ]
  },
  {
   "cell_type": "markdown",
   "metadata": {},
   "source": [
    "Pivot table digunakan untuk merepresentasikan hubungan antara pelanggan (dengan ID sebagai baris) dan item yang dibeli (sebagai kolom), menggunakan nilai Review Rating sebagai isi tabel."
   ]
  },
  {
   "cell_type": "code",
   "execution_count": 10,
   "metadata": {},
   "outputs": [
    {
     "data": {
      "text/html": [
       "<div>\n",
       "<style scoped>\n",
       "    .dataframe tbody tr th:only-of-type {\n",
       "        vertical-align: middle;\n",
       "    }\n",
       "\n",
       "    .dataframe tbody tr th {\n",
       "        vertical-align: top;\n",
       "    }\n",
       "\n",
       "    .dataframe thead th {\n",
       "        text-align: right;\n",
       "    }\n",
       "</style>\n",
       "<table border=\"1\" class=\"dataframe\">\n",
       "  <thead>\n",
       "    <tr style=\"text-align: right;\">\n",
       "      <th>Item Purchased</th>\n",
       "      <th>Backpack</th>\n",
       "      <th>Belt</th>\n",
       "      <th>Blazer</th>\n",
       "      <th>Blouse</th>\n",
       "      <th>Boots</th>\n",
       "      <th>Bowtie</th>\n",
       "      <th>Camisole</th>\n",
       "      <th>Cardigan</th>\n",
       "      <th>Coat</th>\n",
       "      <th>Dress</th>\n",
       "      <th>...</th>\n",
       "      <th>Swimsuit</th>\n",
       "      <th>T-shirt</th>\n",
       "      <th>Tank Top</th>\n",
       "      <th>Tie</th>\n",
       "      <th>Trench Coat</th>\n",
       "      <th>Trousers</th>\n",
       "      <th>Tunic</th>\n",
       "      <th>Umbrella</th>\n",
       "      <th>Vest</th>\n",
       "      <th>Wallet</th>\n",
       "    </tr>\n",
       "    <tr>\n",
       "      <th>Customer Reference ID</th>\n",
       "      <th></th>\n",
       "      <th></th>\n",
       "      <th></th>\n",
       "      <th></th>\n",
       "      <th></th>\n",
       "      <th></th>\n",
       "      <th></th>\n",
       "      <th></th>\n",
       "      <th></th>\n",
       "      <th></th>\n",
       "      <th></th>\n",
       "      <th></th>\n",
       "      <th></th>\n",
       "      <th></th>\n",
       "      <th></th>\n",
       "      <th></th>\n",
       "      <th></th>\n",
       "      <th></th>\n",
       "      <th></th>\n",
       "      <th></th>\n",
       "      <th></th>\n",
       "    </tr>\n",
       "  </thead>\n",
       "  <tbody>\n",
       "    <tr>\n",
       "      <th>3957</th>\n",
       "      <td>4.0</td>\n",
       "      <td>0.0</td>\n",
       "      <td>0.0</td>\n",
       "      <td>2.100000</td>\n",
       "      <td>0.0</td>\n",
       "      <td>0.0</td>\n",
       "      <td>4.700000</td>\n",
       "      <td>0.0</td>\n",
       "      <td>2.1</td>\n",
       "      <td>0.0</td>\n",
       "      <td>...</td>\n",
       "      <td>0.0</td>\n",
       "      <td>0.0</td>\n",
       "      <td>2.1</td>\n",
       "      <td>0.0</td>\n",
       "      <td>0.00</td>\n",
       "      <td>0.0</td>\n",
       "      <td>0.0</td>\n",
       "      <td>0.0</td>\n",
       "      <td>3.200000</td>\n",
       "      <td>0.0</td>\n",
       "    </tr>\n",
       "    <tr>\n",
       "      <th>3958</th>\n",
       "      <td>0.0</td>\n",
       "      <td>2.7</td>\n",
       "      <td>0.0</td>\n",
       "      <td>3.300000</td>\n",
       "      <td>0.0</td>\n",
       "      <td>0.0</td>\n",
       "      <td>0.000000</td>\n",
       "      <td>0.0</td>\n",
       "      <td>0.0</td>\n",
       "      <td>0.0</td>\n",
       "      <td>...</td>\n",
       "      <td>0.0</td>\n",
       "      <td>0.0</td>\n",
       "      <td>3.1</td>\n",
       "      <td>2.8</td>\n",
       "      <td>3.85</td>\n",
       "      <td>2.5</td>\n",
       "      <td>1.1</td>\n",
       "      <td>2.5</td>\n",
       "      <td>0.000000</td>\n",
       "      <td>0.0</td>\n",
       "    </tr>\n",
       "    <tr>\n",
       "      <th>3959</th>\n",
       "      <td>0.0</td>\n",
       "      <td>0.0</td>\n",
       "      <td>1.8</td>\n",
       "      <td>0.000000</td>\n",
       "      <td>4.2</td>\n",
       "      <td>0.0</td>\n",
       "      <td>1.600000</td>\n",
       "      <td>0.0</td>\n",
       "      <td>2.5</td>\n",
       "      <td>0.0</td>\n",
       "      <td>...</td>\n",
       "      <td>0.0</td>\n",
       "      <td>0.0</td>\n",
       "      <td>0.0</td>\n",
       "      <td>0.0</td>\n",
       "      <td>0.00</td>\n",
       "      <td>4.5</td>\n",
       "      <td>0.0</td>\n",
       "      <td>3.9</td>\n",
       "      <td>0.000000</td>\n",
       "      <td>0.0</td>\n",
       "    </tr>\n",
       "    <tr>\n",
       "      <th>3960</th>\n",
       "      <td>0.0</td>\n",
       "      <td>0.0</td>\n",
       "      <td>0.0</td>\n",
       "      <td>0.000000</td>\n",
       "      <td>0.0</td>\n",
       "      <td>0.0</td>\n",
       "      <td>3.366667</td>\n",
       "      <td>0.0</td>\n",
       "      <td>0.0</td>\n",
       "      <td>0.0</td>\n",
       "      <td>...</td>\n",
       "      <td>0.0</td>\n",
       "      <td>0.0</td>\n",
       "      <td>4.6</td>\n",
       "      <td>0.0</td>\n",
       "      <td>0.00</td>\n",
       "      <td>1.5</td>\n",
       "      <td>0.0</td>\n",
       "      <td>0.0</td>\n",
       "      <td>4.900000</td>\n",
       "      <td>4.0</td>\n",
       "    </tr>\n",
       "    <tr>\n",
       "      <th>3961</th>\n",
       "      <td>0.0</td>\n",
       "      <td>0.0</td>\n",
       "      <td>0.0</td>\n",
       "      <td>2.999057</td>\n",
       "      <td>1.2</td>\n",
       "      <td>0.0</td>\n",
       "      <td>0.000000</td>\n",
       "      <td>0.0</td>\n",
       "      <td>0.0</td>\n",
       "      <td>0.0</td>\n",
       "      <td>...</td>\n",
       "      <td>2.3</td>\n",
       "      <td>0.0</td>\n",
       "      <td>0.0</td>\n",
       "      <td>0.0</td>\n",
       "      <td>0.00</td>\n",
       "      <td>2.1</td>\n",
       "      <td>0.0</td>\n",
       "      <td>0.0</td>\n",
       "      <td>2.449529</td>\n",
       "      <td>3.3</td>\n",
       "    </tr>\n",
       "  </tbody>\n",
       "</table>\n",
       "<p>5 rows × 50 columns</p>\n",
       "</div>"
      ],
      "text/plain": [
       "Item Purchased         Backpack  Belt  Blazer    Blouse  Boots  Bowtie  \\\n",
       "Customer Reference ID                                                    \n",
       "3957                        4.0   0.0     0.0  2.100000    0.0     0.0   \n",
       "3958                        0.0   2.7     0.0  3.300000    0.0     0.0   \n",
       "3959                        0.0   0.0     1.8  0.000000    4.2     0.0   \n",
       "3960                        0.0   0.0     0.0  0.000000    0.0     0.0   \n",
       "3961                        0.0   0.0     0.0  2.999057    1.2     0.0   \n",
       "\n",
       "Item Purchased         Camisole  Cardigan  Coat  Dress  ...  Swimsuit  \\\n",
       "Customer Reference ID                                   ...             \n",
       "3957                   4.700000       0.0   2.1    0.0  ...       0.0   \n",
       "3958                   0.000000       0.0   0.0    0.0  ...       0.0   \n",
       "3959                   1.600000       0.0   2.5    0.0  ...       0.0   \n",
       "3960                   3.366667       0.0   0.0    0.0  ...       0.0   \n",
       "3961                   0.000000       0.0   0.0    0.0  ...       2.3   \n",
       "\n",
       "Item Purchased         T-shirt  Tank Top  Tie  Trench Coat  Trousers  Tunic  \\\n",
       "Customer Reference ID                                                         \n",
       "3957                       0.0       2.1  0.0         0.00       0.0    0.0   \n",
       "3958                       0.0       3.1  2.8         3.85       2.5    1.1   \n",
       "3959                       0.0       0.0  0.0         0.00       4.5    0.0   \n",
       "3960                       0.0       4.6  0.0         0.00       1.5    0.0   \n",
       "3961                       0.0       0.0  0.0         0.00       2.1    0.0   \n",
       "\n",
       "Item Purchased         Umbrella      Vest  Wallet  \n",
       "Customer Reference ID                              \n",
       "3957                        0.0  3.200000     0.0  \n",
       "3958                        2.5  0.000000     0.0  \n",
       "3959                        3.9  0.000000     0.0  \n",
       "3960                        0.0  4.900000     4.0  \n",
       "3961                        0.0  2.449529     3.3  \n",
       "\n",
       "[5 rows x 50 columns]"
      ]
     },
     "execution_count": 10,
     "metadata": {},
     "output_type": "execute_result"
    }
   ],
   "source": [
    "# Melihat isi tabel\n",
    "user.head()\n"
   ]
  },
  {
   "cell_type": "markdown",
   "metadata": {},
   "source": [
    "### Visualisasi Data"
   ]
  },
  {
   "cell_type": "code",
   "execution_count": 11,
   "metadata": {},
   "outputs": [
    {
     "data": {
      "image/png": "[encoded data removed]",
      "text/plain": [
       "<Figure size 800x400 with 1 Axes>"
      ]
     },
     "metadata": {},
     "output_type": "display_data"
    }
   ],
   "source": [
    "# Melihat product dengan review tertinggi\n",
    "top_items = df.groupby('Item Purchased')['Review Rating'].mean().reset_index()\n",
    "top_items = top_items.sort_values(by='Review Rating', ascending=False).head(5)\n",
    "\n",
    "plt.figure(figsize=(8, 4))\n",
    "plt.barh(top_items['Item Purchased'], top_items['Review Rating'], color='#43A047')\n",
    "\n",
    "plt.xlabel('Review Rating')\n",
    "plt.ylabel('Item Purchased')\n",
    "plt.title('5 Product dengan Review Rating tertinggi')\n",
    "\n",
    "for index, value in enumerate(top_items['Review Rating']):\n",
    "    plt.text(value, index, f'{value:.2f}', va='center')\n",
    "\n",
    "plt.grid(True, axis='x', linestyle='--', alpha=0.7)\n",
    "plt.tight_layout()\n",
    "plt.show()\n"
   ]
  },
  {
   "cell_type": "code",
   "execution_count": 12,
   "metadata": {},
   "outputs": [
    {
     "data": {
      "image/png": "[encoded data removed]",
      "text/plain": [
       "<Figure size 800x400 with 1 Axes>"
      ]
     },
     "metadata": {},
     "output_type": "display_data"
    }
   ],
   "source": [
    "# Melihat product dengan harga termahal\n",
    "item_prices = df.groupby('Item Purchased')['Purchase Amount (USD)'].sum().reset_index()\n",
    "top_5_expensive_items = item_prices.sort_values(by='Purchase Amount (USD)', ascending=False).head(5)\n",
    "\n",
    "plt.figure(figsize=(8, 4))\n",
    "plt.bar(top_5_expensive_items['Item Purchased'], top_5_expensive_items['Purchase Amount (USD)'], color='#1B5E20')\n",
    "\n",
    "plt.xlabel('Item Purchased')\n",
    "plt.ylabel('Purchase Amount (USD)')\n",
    "plt.title('5 Product Termahal')\n",
    "\n",
    "plt.grid(True, axis='y', alpha=0.7)\n",
    "plt.xticks(rotation=45, ha='right')\n",
    "plt.tight_layout()\n",
    "plt.show()\n"
   ]
  },
  {
   "cell_type": "markdown",
   "metadata": {},
   "source": [
    "### Cosine Similarity"
   ]
  },
  {
   "cell_type": "code",
   "execution_count": 13,
   "metadata": {},
   "outputs": [],
   "source": [
    "# Mengaplikasikan cosine similarity\n",
    "user_similarity = cosine_similarity(user)\n",
    "user_similarity_df = pd.DataFrame(user_similarity, index=user.index, columns=user.index)"
   ]
  },
  {
   "cell_type": "markdown",
   "metadata": {},
   "source": [
    "Cosine similarity digunakan untuk menghitung tingkat kemiripan antar pengguna dalam dataset berdasarkan data yang diberikan. Hasil dari cosine similarity digunakan untuk collaborative filtering, dimana sistem akan merekomendasikan barang berdasarkan preferensi pengguna yang mirip."
   ]
  },
  {
   "cell_type": "code",
   "execution_count": 14,
   "metadata": {},
   "outputs": [],
   "source": [
    "# Membuat fungsi untuk memberikan rekomendasi produk kepada pengguna\n",
    "def recommend(user_id, top_n=3):\n",
    "    if user_id not in user.index:\n",
    "        return [\"User tidak ditemukan. Pastikan ID user sudah benar.\"]\n",
    "    \n",
    "    # Mencari pengguna yang mirip\n",
    "    similar_users = user_similarity_df[user_id].sort_values(ascending=False)[1:top_n+1].index\n",
    "    \n",
    "    # Mengambil produk yang telah dinilai pengguna serupa\n",
    "    recommended_products = []\n",
    "    for similar_user in similar_users:\n",
    "        similar_user_rated = df[df['Customer Reference ID'] == similar_user][['Item Purchased', 'Review Rating']]\n",
    "        recommended_products.extend(similar_user_rated.to_dict('records'))\n",
    "    \n",
    "    # Memfilter produk yang belum dinilai oleh user_id\n",
    "    user_rated = set(df[df['Customer Reference ID'] == user_id]['Item Purchased'])\n",
    "    final_recommendations = [prod for prod in recommended_products if prod['Item Purchased'] not in user_rated]\n",
    "    \n",
    "    # Mengurutkan berdasarkan rating\n",
    "    final_recommendations = sorted(final_recommendations, key=lambda x: x['Review Rating'], reverse=True)\n",
    "    \n",
    "    return final_recommendations[:top_n]"
   ]
  },
  {
   "cell_type": "markdown",
   "metadata": {},
   "source": [
    "Fungsi recommend digunakan untuk memberikan rekomendasi produk kepada pengguna dengan mempertimbangkan kesamaan preferensi dengan pengguna lainnya. Fungsi ini menerapkan teknik collaborative filtering berbasis pengguna, di mana rekomendasi didasarkan pada kemiripan antar pengguna berdasarkan rating yang diberikan pada produk."
   ]
  },
  {
   "cell_type": "code",
   "execution_count": 15,
   "metadata": {},
   "outputs": [
    {
     "data": {
      "text/plain": [
       "0       4018\n",
       "1       4115\n",
       "2       4019\n",
       "3       4097\n",
       "4       3997\n",
       "        ... \n",
       "3395    4118\n",
       "3396    4056\n",
       "3397    3991\n",
       "3398    4042\n",
       "3399    4001\n",
       "Name: Customer Reference ID, Length: 3400, dtype: int64"
      ]
     },
     "execution_count": 15,
     "metadata": {},
     "output_type": "execute_result"
    }
   ],
   "source": [
    "# User id yg dapat anda pilih\n",
    "df['Customer Reference ID']"
   ]
  },
  {
   "cell_type": "code",
   "execution_count": 16,
   "metadata": {},
   "outputs": [
    {
     "name": "stdout",
     "output_type": "stream",
     "text": [
      "Rekomendasi\n",
      "Wallet - (Review Rating: 4.6)\n",
      "Cardigan - (Review Rating: 4.5)\n",
      "Bowtie - (Review Rating: 4.4)\n"
     ]
    }
   ],
   "source": [
    "# Masukkan user id yang ingin Anda periksa rekomendasinya\n",
    "user_id = 4115\n",
    "recommendations = recommend(user_id=user_id, top_n=3)\n",
    "\n",
    "# Menampilkan rekomendasi\n",
    "print('Rekomendasi')\n",
    "for idx, rec in enumerate(recommendations, start=1):\n",
    "    print(f\"{rec['Item Purchased']} - (Review Rating: {rec['Review Rating']})\")"
   ]
  },
  {
   "cell_type": "markdown",
   "metadata": {},
   "source": [
    "Pada sistem rekomendasi, pengguna akan memasukkan user_id yang terdaftar dalam indeks. Setelah itu, sistem akan menampilkan 3 rekomendasi produk teratas untuk pengguna tersebut, yang dihitung berdasarkan riwayat pembeliannya."
   ]
  },
  {
   "cell_type": "markdown",
   "metadata": {},
   "source": [
    "## THANK YOU"
   ]
  }
 ],
 "metadata": {
  "kernelspec": {
   "display_name": "Python 3",
   "language": "python",
   "name": "python3"
  },
  "language_info": {
   "codemirror_mode": {
    "name": "ipython",
    "version": 3
   },
   "file_extension": ".py",
   "mimetype": "text/x-python",
   "name": "python",
   "nbconvert_exporter": "python",
   "pygments_lexer": "ipython3",
   "version": "3.11.4"
  }
 },
 "nbformat": 4,
 "nbformat_minor": 4
}
